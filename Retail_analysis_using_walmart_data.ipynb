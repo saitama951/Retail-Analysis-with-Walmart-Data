{
 "cells": [
  {
   "cell_type": "code",
   "execution_count": 11,
   "metadata": {},
   "outputs": [],
   "source": [
    "#Importing the necessary libraries\n",
    "import numpy as np\n",
    "import pandas as pd\n",
    "from sklearn.linear_model import LinearRegression\n",
    "from sklearn.model_selection import train_test_split\n",
    "from matplotlib import style\n",
    "import matplotlib.pyplot as plt\n",
    "from datetime import datetime as dt"
   ]
  },
  {
   "cell_type": "code",
   "execution_count": 12,
   "metadata": {},
   "outputs": [],
   "source": [
    "#reading the dataset\n",
    "walmart_dataset=pd.read_csv('C:/Users/Administrator/Desktop/simplilearn/projects/Walmart_Store_sales.csv')"
   ]
  },
  {
   "cell_type": "code",
   "execution_count": 13,
   "metadata": {},
   "outputs": [
    {
     "name": "stdout",
     "output_type": "stream",
     "text": [
      "               count          mean            std         min         25%  \\\n",
      "Store         6435.0  2.300000e+01      12.988182       1.000      12.000   \n",
      "Weekly_Sales  6435.0  1.046965e+06  564366.622054  209986.250  553350.105   \n",
      "Holiday_Flag  6435.0  6.993007e-02       0.255049       0.000       0.000   \n",
      "Temperature   6435.0  6.066378e+01      18.444933      -2.060      47.460   \n",
      "Fuel_Price    6435.0  3.358607e+00       0.459020       2.472       2.933   \n",
      "CPI           6435.0  1.715784e+02      39.356712     126.064     131.735   \n",
      "Unemployment  6435.0  7.999151e+00       1.875885       3.879       6.891   \n",
      "\n",
      "                        50%           75%           max  \n",
      "Store             23.000000  3.400000e+01  4.500000e+01  \n",
      "Weekly_Sales  960746.040000  1.420159e+06  3.818686e+06  \n",
      "Holiday_Flag       0.000000  0.000000e+00  1.000000e+00  \n",
      "Temperature       62.670000  7.494000e+01  1.001400e+02  \n",
      "Fuel_Price         3.445000  3.735000e+00  4.468000e+00  \n",
      "CPI              182.616521  2.127433e+02  2.272328e+02  \n",
      "Unemployment       7.874000  8.622000e+00  1.431300e+01  \n"
     ]
    }
   ],
   "source": [
    "print(walmart_dataset.describe().transpose())\n",
    "filter=walmart_dataset['Weekly_Sales']==walmart_dataset['Weekly_Sales'].max()"
   ]
  },
  {
   "cell_type": "code",
   "execution_count": 14,
   "metadata": {},
   "outputs": [
    {
     "name": "stdout",
     "output_type": "stream",
     "text": [
      "1905    14.0\n",
      "Name: Store, dtype: float64\n"
     ]
    }
   ],
   "source": [
    "#store with maximum weekly sales\n",
    "print(walmart_dataset['Store'].where(filter).dropna()) "
   ]
  },
  {
   "cell_type": "code",
   "execution_count": 15,
   "metadata": {},
   "outputs": [
    {
     "name": "stdout",
     "output_type": "stream",
     "text": [
      "Float64Index([14.0], dtype='float64', name='Store')\n"
     ]
    }
   ],
   "source": [
    "#store with maximum standard deviation\n",
    "x=walmart_dataset.groupby('Store').describe()\n",
    "filter=x['Weekly_Sales']['std']==x['Weekly_Sales']['std'].max()\n",
    "print(x.index.where(filter).dropna())"
   ]
  },
  {
   "cell_type": "code",
   "execution_count": 16,
   "metadata": {},
   "outputs": [
    {
     "name": "stdout",
     "output_type": "stream",
     "text": [
      "Store\n",
      "1    -0.275527\n",
      "2    -0.428395\n",
      "3    -0.383404\n",
      "4    -0.344651\n",
      "5    -0.118503\n",
      "6    -0.175113\n",
      "7     1.009900\n",
      "8    -0.492255\n",
      "9    -0.371836\n",
      "10   -0.349078\n",
      "11   -0.264623\n",
      "12   -0.579519\n",
      "13   -0.290040\n",
      "14    0.497651\n",
      "15    0.111549\n",
      "16    1.306156\n",
      "17   -0.452162\n",
      "18   -0.344824\n",
      "19    0.175801\n",
      "20   -0.079545\n",
      "21   -0.510412\n",
      "22    0.082377\n",
      "23    0.187495\n",
      "24    0.104298\n",
      "25    0.563796\n",
      "26   -0.009503\n",
      "27    0.029331\n",
      "28   -0.279089\n",
      "29   -0.168859\n",
      "30    0.203751\n",
      "31   -0.456736\n",
      "32   -0.088438\n",
      "33    0.129064\n",
      "34   -0.403399\n",
      "35   -0.248750\n",
      "36    0.340981\n",
      "37    0.006670\n",
      "38    0.120106\n",
      "39    0.512016\n",
      "40    0.051050\n",
      "41    0.054635\n",
      "42    0.159690\n",
      "43   -0.169517\n",
      "44   -0.019341\n",
      "45   -0.285044\n",
      "Name: std, dtype: float64\n"
     ]
    }
   ],
   "source": [
    "##quartley growth\n",
    "walmart_dataset['Date']=[dt.strptime(x,'%d-%m-%Y') for x in list(walmart_dataset['Date'])]\n",
    "\n",
    "quarter_2=walmart_dataset[walmart_dataset['Date'].between('2012-01-01','2012-03-31')]\n",
    "quarter_3=walmart_dataset[walmart_dataset['Date'].between('2012-04-01','2012-06-30')]\n",
    "\n",
    "print((quarter_3.groupby('Store').describe()['Weekly_Sales']['std']-quarter_2.groupby('Store').describe()['Weekly_Sales']['std'])/quarter_2.groupby('Store').describe()['Weekly_Sales']['std'])"
   ]
  },
  {
   "cell_type": "code",
   "execution_count": 17,
   "metadata": {},
   "outputs": [
    {
     "name": "stdout",
     "output_type": "stream",
     "text": [
      "           Store                                                       \\\n",
      "           count       mean        std  min    25%   50%    75%   max   \n",
      "Date                                                                    \n",
      "2010-02-12  21.0  19.523810  12.035859  1.0  11.00  19.0  28.00  41.0   \n",
      "2010-09-10  19.0  18.736842  11.737131  1.0  10.50  19.0  26.50  41.0   \n",
      "2010-11-26  30.0  21.533333  12.159099  1.0  12.25  21.5  30.25  45.0   \n",
      "2010-12-31  16.0  17.000000  11.195237  1.0   9.00  16.5  24.75  39.0   \n",
      "2011-02-11  20.0  18.750000  11.800424  1.0  10.75  18.5  27.25  41.0   \n",
      "2011-09-09  20.0  19.400000  11.802765  1.0  10.75  19.5  27.25  41.0   \n",
      "2011-11-25  31.0  21.387097  11.982424  1.0  12.50  21.0  29.50  45.0   \n",
      "2011-12-30  19.0  18.789474  12.122426  1.0  10.50  19.0  27.50  41.0   \n",
      "2012-02-10  22.0  19.772727  11.767315  1.0  11.25  19.5  27.75  41.0   \n",
      "2012-09-07  22.0  20.272727  12.064043  1.0  11.50  19.5  27.75  41.0   \n",
      "\n",
      "           Weekly_Sales                ...                            \\\n",
      "                  count          mean  ...           75%         max   \n",
      "Date                                   ...                             \n",
      "2010-02-12         21.0  1.585199e+06  ...  1.745363e+06  2188307.39   \n",
      "2010-09-10         19.0  1.529971e+06  ...  1.805636e+06  2191767.76   \n",
      "2010-11-26         30.0  1.902568e+06  ...  2.237928e+06  2939946.38   \n",
      "2010-12-31         16.0  1.435490e+06  ...  1.683294e+06  1799737.79   \n",
      "2011-02-11         20.0  1.573433e+06  ...  1.953430e+06  2211388.14   \n",
      "2011-09-09         20.0  1.554863e+06  ...  1.779231e+06  2202742.90   \n",
      "2011-11-25         31.0  1.891140e+06  ...  2.294322e+06  3004702.33   \n",
      "2011-12-30         19.0  1.550523e+06  ...  1.894188e+06  2043245.00   \n",
      "2012-02-10         22.0  1.619000e+06  ...  2.002583e+06  2462978.28   \n",
      "2012-09-07         22.0  1.552976e+06  ...  1.807787e+06  2165796.31   \n",
      "\n",
      "           Holiday_Flag                                     \n",
      "                  count mean  std  min  25%  50%  75%  max  \n",
      "Date                                                        \n",
      "2010-02-12         21.0  1.0  0.0  1.0  1.0  1.0  1.0  1.0  \n",
      "2010-09-10         19.0  1.0  0.0  1.0  1.0  1.0  1.0  1.0  \n",
      "2010-11-26         30.0  1.0  0.0  1.0  1.0  1.0  1.0  1.0  \n",
      "2010-12-31         16.0  1.0  0.0  1.0  1.0  1.0  1.0  1.0  \n",
      "2011-02-11         20.0  1.0  0.0  1.0  1.0  1.0  1.0  1.0  \n",
      "2011-09-09         20.0  1.0  0.0  1.0  1.0  1.0  1.0  1.0  \n",
      "2011-11-25         31.0  1.0  0.0  1.0  1.0  1.0  1.0  1.0  \n",
      "2011-12-30         19.0  1.0  0.0  1.0  1.0  1.0  1.0  1.0  \n",
      "2012-02-10         22.0  1.0  0.0  1.0  1.0  1.0  1.0  1.0  \n",
      "2012-09-07         22.0  1.0  0.0  1.0  1.0  1.0  1.0  1.0  \n",
      "\n",
      "[10 rows x 24 columns]\n"
     ]
    }
   ],
   "source": [
    "#holidays with higher sales\n",
    "holiday_sales=walmart_dataset[['Store','Date','Weekly_Sales','Holiday_Flag']].where(walmart_dataset['Holiday_Flag']==1)\n",
    "non_holiday_sales=walmart_dataset[['Store','Date','Weekly_Sales','Holiday_Flag']].where(walmart_dataset['Holiday_Flag']==0)\n",
    "\n",
    "holiday_sales=holiday_sales.dropna()\n",
    "non_holiday_sales=non_holiday_sales.dropna()\n",
    "\n",
    "impact=holiday_sales[holiday_sales['Weekly_Sales']>non_holiday_sales['Weekly_Sales'].mean()]\n",
    "print(impact.groupby('Date').describe())"
   ]
  },
  {
   "cell_type": "code",
   "execution_count": 25,
   "metadata": {},
   "outputs": [
    {
     "name": "stdout",
     "output_type": "stream",
     "text": [
      "0         1.0\n",
      "1         2.0\n",
      "2         3.0\n",
      "3         4.0\n",
      "4         5.0\n",
      "5         6.0\n",
      "6         7.0\n",
      "7         8.0\n",
      "8         9.0\n",
      "9        10.0\n",
      "10       11.0\n",
      "11       12.0\n",
      "12       13.0\n",
      "13       14.0\n",
      "14       15.0\n",
      "15       16.0\n",
      "16       17.0\n",
      "17       18.0\n",
      "18       19.0\n",
      "19       20.0\n",
      "20       21.0\n",
      "21       22.0\n",
      "22       23.0\n",
      "23       24.0\n",
      "24       25.0\n",
      "25       26.0\n",
      "26       27.0\n",
      "27       28.0\n",
      "28       29.0\n",
      "29       30.0\n",
      "        ...  \n",
      "6405    114.0\n",
      "6406    115.0\n",
      "6407    116.0\n",
      "6408    117.0\n",
      "6409    118.0\n",
      "6410    119.0\n",
      "6411    120.0\n",
      "6412    121.0\n",
      "6413    122.0\n",
      "6414    123.0\n",
      "6415    124.0\n",
      "6416    125.0\n",
      "6417    126.0\n",
      "6418    127.0\n",
      "6419    128.0\n",
      "6420    129.0\n",
      "6421    130.0\n",
      "6422    131.0\n",
      "6423    132.0\n",
      "6424    133.0\n",
      "6425    134.0\n",
      "6426    135.0\n",
      "6427    136.0\n",
      "6428    137.0\n",
      "6429    138.0\n",
      "6430    139.0\n",
      "6431    140.0\n",
      "6432    141.0\n",
      "6433    142.0\n",
      "6434    143.0\n",
      "Name: Week, Length: 6435, dtype: float64\n"
     ]
    }
   ],
   "source": [
    "#converting string date to date format\n",
    "days = [(x - walmart_dataset['Date'][0]) for x in list(walmart_dataset['Date'])]\n",
    "walmart_dataset['Week']=[np.timedelta64(x, 'D').astype(int)/7+1 for x in days]\n",
    "print(walmart_dataset['Week'])"
   ]
  },
  {
   "cell_type": "code",
   "execution_count": 334,
   "metadata": {},
   "outputs": [
    {
     "data": {
      "image/png": "[encoded data removed]",
      "text/plain": [
       "<Figure size 1080x576 with 1 Axes>"
      ]
     },
     "metadata": {},
     "output_type": "display_data"
    },
    {
     "data": {
      "image/png": "[encoded data removed]",
      "text/plain": [
       "<Figure size 1080x576 with 1 Axes>"
      ]
     },
     "metadata": {},
     "output_type": "display_data"
    },
    {
     "data": {
      "image/png": "[encoded data removed]",
      "text/plain": [
       "<Figure size 1080x576 with 1 Axes>"
      ]
     },
     "metadata": {},
     "output_type": "display_data"
    }
   ],
   "source": [
    "#monthly insights of each year\n",
    "style.use('ggplot')\n",
    "plt.figure(figsize=[15,8])\n",
    "month_plotting=pd.DataFrame()\n",
    "month_plotting['month']= list(x.month for x in walmart_dataset['Date'])\n",
    "month_plotting['year']=list(x.year for x in walmart_dataset['Date'])\n",
    "month_plotting['Weekly_Sales']=walmart_dataset['Weekly_Sales']\n",
    "x=month_plotting.groupby(['year','month']).sum()\n",
    "x=x.reset_index(level=0,drop=True)\n",
    "#print(x['Weekly_Sales'][23:33])\n",
    "months=np.array(y for y in range(1,13))\n",
    "plt.bar(x['Weekly_Sales'][:11].index,x['Weekly_Sales'][:11].values)\n",
    "plt.title('2010')\n",
    "plt.xlabel('months')\n",
    "plt.ylabel('sales')\n",
    "plt.show()\n",
    "plt.figure(figsize=[15,8])\n",
    "plt.bar(x['Weekly_Sales'][11:23].index,x['Weekly_Sales'][:12].values)\n",
    "plt.title('2011')\n",
    "plt.xlabel('months')\n",
    "plt.ylabel('sales')\n",
    "plt.show()\n",
    "plt.figure(figsize=[15,8])\n",
    "plt.bar(x['Weekly_Sales'][23:33].index,x['Weekly_Sales'][:10].values)\n",
    "plt.title('2012')\n",
    "plt.xlabel('months')\n",
    "plt.ylabel('sales')\n",
    "plt.show()\n",
    "\n"
   ]
  },
  {
   "cell_type": "code",
   "execution_count": 488,
   "metadata": {},
   "outputs": [
    {
     "data": {
      "image/png": "[encoded data removed]",
      "text/plain": [
       "<Figure size 1080x576 with 1 Axes>"
      ]
     },
     "metadata": {},
     "output_type": "display_data"
    }
   ],
   "source": [
    "#sales semester wise\n",
    "semester=pd.DataFrame()\n",
    "semester['month']=np.array([6,12,6,12,6,12])\n",
    "semester['sales']=pd.DataFrame(x.iloc[i:i+6].sum().values for i in range(0,33,6))\n",
    "semester.set_index('month',inplace=True)\n",
    "plt.figure(figsize=[15,8])\n",
    "plt.bar(semester[:2].index.values+1,(semester[:2].values.reshape(2)))\n",
    "plt.bar(semester[2:4].index.values+2,(semester[2:4].values.reshape(2)))\n",
    "plt.bar(semester[4:6].index.values,(semester[4:6].values.reshape(2)))\n",
    "plt.xticks([6,7,8,12,13,14],[2010,2011,2012,2010,2011,2012])\n",
    "plt.xlabel(\"1-semester and 2-semester\")\n",
    "plt.ylabel(\"sales\")\n",
    "plt.show()\n",
    "\n"
   ]
  },
  {
   "cell_type": "code",
   "execution_count": 495,
   "metadata": {},
   "outputs": [],
   "source": [
    "#assigning features and label\n",
    "X_feature=walmart_dataset.drop(['Weekly_Sales','Date','Fuel_Price'],axis=1)\n",
    "y_label=walmart_dataset['Weekly_Sales']"
   ]
  },
  {
   "cell_type": "code",
   "execution_count": 496,
   "metadata": {},
   "outputs": [
    {
     "data": {
      "text/plain": [
       "Text(0, 0.5, 'weekly sales')"
      ]
     },
     "execution_count": 496,
     "metadata": {},
     "output_type": "execute_result"
    },
    {
     "data": {
      "image/png": "[encoded data removed]",
      "text/plain": [
       "<Figure size 432x288 with 1 Axes>"
      ]
     },
     "metadata": {},
     "output_type": "display_data"
    }
   ],
   "source": [
    "plt.plot(X_feature['Week'],y_label,'o')\n",
    "plt.xlabel(\"week number\")\n",
    "plt.ylabel(\"weekly sales\")"
   ]
  },
  {
   "cell_type": "code",
   "execution_count": 497,
   "metadata": {},
   "outputs": [],
   "source": [
    "#using the linear regression algorithm\n",
    "linreg=LinearRegression()"
   ]
  },
  {
   "cell_type": "code",
   "execution_count": 498,
   "metadata": {},
   "outputs": [
    {
     "data": {
      "text/plain": [
       "LinearRegression(copy_X=True, fit_intercept=True, n_jobs=None, normalize=False)"
      ]
     },
     "execution_count": 498,
     "metadata": {},
     "output_type": "execute_result"
    }
   ],
   "source": [
    "#training and testing the data\n",
    "X_train,X_test,y_train,y_test=train_test_split(X_feature,y_label)\n",
    "linreg.fit(X_train,y_train)"
   ]
  },
  {
   "cell_type": "code",
   "execution_count": 499,
   "metadata": {},
   "outputs": [
    {
     "name": "stdout",
     "output_type": "stream",
     "text": [
      "[1206828.25653116  811432.45265622 1183192.92186963 ...  916171.40195039\n",
      " 1167210.16087863  947836.2525009 ]\n"
     ]
    }
   ],
   "source": [
    "#the predicted values\n",
    "y_predict=linreg.predict(X_test)\n",
    "print(y_predict)"
   ]
  },
  {
   "cell_type": "code",
   "execution_count": 500,
   "metadata": {},
   "outputs": [
    {
     "name": "stdout",
     "output_type": "stream",
     "text": [
      "513613.17274759343\n"
     ]
    }
   ],
   "source": [
    "#root mean square value of the algorithm\n",
    "print(np.sqrt(((y_predict-y_test) ** 2).mean()))"
   ]
  }
 ],
 "metadata": {
  "kernelspec": {
   "display_name": "Python 3",
   "language": "python",
   "name": "python3"
  },
  "language_info": {
   "codemirror_mode": {
    "name": "ipython",
    "version": 3
   },
   "file_extension": ".py",
   "mimetype": "text/x-python",
   "name": "python",
   "nbconvert_exporter": "python",
   "pygments_lexer": "ipython3",
   "version": "3.7.4"
  }
 },
 "nbformat": 4,
 "nbformat_minor": 4
}
